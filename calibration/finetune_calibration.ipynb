{
 "cells": [
  {
   "cell_type": "code",
   "execution_count": 1,
   "metadata": {
    "collapsed": true
   },
   "outputs": [],
   "source": [
    "import pickle\n",
    "import numpy as np\n",
    "import matplotlib.pylab as plt\n",
    "import scipy.ndimage\n",
    "import cv2\n",
    "from Calibration.utils import *\n",
    "import open3d as o3d"
   ]
  },
  {
   "cell_type": "code",
   "execution_count": 2,
   "outputs": [],
   "source": [
    "def load_background(data_dir, cam_list, depth_idx=3):\n",
    "    bg_imgs = {}\n",
    "    for cam in cam_list:\n",
    "        bg_file = '%s/%s/depth/depth%04i.png' % (data_dir, cam, depth_idx)\n",
    "        # bg_file = '%s/%s_calib_snap/depth%04i.png' % (data_dir, cam, depth_idx)\n",
    "        bg_img = cv2.imread(bg_file, -1)\n",
    "\n",
    "        # plt.figure()\n",
    "        # plt.imshow(bg_img, cmap='gray')\n",
    "        # plt.show()\n",
    "\n",
    "        bg_imgs[cam] = bg_img\n",
    "    return bg_imgs\n",
    "\n",
    "\n",
    "def substract_foreground(bg_img, img, min_depth=500, max_depth=4000):\n",
    "    bg_img = bg_img.astype(np.float32)\n",
    "    img = img.astype(np.float32)\n",
    "\n",
    "    # substraction\n",
    "    img_bin = (np.abs(bg_img - img) > 60) * (img > min_depth) * (img < max_depth)\n",
    "    img_bin = scipy.ndimage.median_filter(img_bin, 5)\n",
    "\n",
    "    # connected component (useless)\n",
    "    num_labels, labels_im = cv2.connectedComponents(img_bin.astype(np.uint8))\n",
    "    # label 0 is the background with the largest area, second largest is the foreground\n",
    "    areas = [np.sum(labels_im==(i+1)) for i in range(num_labels-1)]\n",
    "    max_label = areas.index(max(areas))\n",
    "    img_bin = labels_im == (max_label + 1)\n",
    "\n",
    "    plt.figure()\n",
    "    plt.imshow(img_bin, cmap='gray')\n",
    "    plt.show()\n",
    "    return img_bin\n"
   ],
   "metadata": {
    "collapsed": false,
    "pycharm": {
     "name": "#%%\n"
    }
   }
  },
  {
   "cell_type": "code",
   "execution_count": 6,
   "outputs": [
    {
     "name": "stdout",
     "output_type": "stream",
     "text": [
      "dict_keys(['azure_kinect_0_color', 'azure_kinect_0_depth', 'azure_kinect_1_color', 'azure_kinect_1_depth', 'azure_kinect_2_color', 'azure_kinect_2_depth', 'kinect_v2_1_color', 'kinect_v2_1_depth', 'kinect_v2_2_color', 'kinect_v2_2_depth', 'event_camera', 'polar'])\n",
      "dict_keys(['azure_kinect_2-kinect_v2_2', 'azure_kinect_0-azure_kinect_2', 'polar-azure_kinect_0', 'event_camera-azure_kinect_0', 'azure_kinect_0-azure_kinect_1', 'azure_kinect_1-kinect_v2_1'])\n"
     ]
    }
   ],
   "source": [
    "cam_list = ['azure_kinect_0', 'azure_kinect_1', 'azure_kinect_2', 'kinect_v2_1', 'kinect_v2_2']\n",
    "bg_data_dir = 'D:/UoA_Research/data_2/1'\n",
    "data_dir = 'D:/UoA_Research/data_8'\n",
    "\n",
    "# load intrinsic parameters\n",
    "with open('%s/intrinsic_param.pkl' % data_dir, 'rb') as f:\n",
    "    intr_params = pickle.load(f)\n",
    "    print(intr_params.keys())\n",
    "\n",
    "# load intrinsic parameters\n",
    "with open('%s/extrinsic_param.pkl' % data_dir, 'rb') as f:\n",
    "    extr_params = pickle.load(f)\n",
    "    print(extr_params.keys())\n",
    "\n",
    "bg_imgs = load_background(bg_data_dir, cam_list, 10)\n"
   ],
   "metadata": {
    "collapsed": false,
    "pycharm": {
     "name": "#%%\n"
    }
   }
  },
  {
   "cell_type": "code",
   "execution_count": 4,
   "outputs": [
    {
     "data": {
      "text/plain": "<Figure size 432x288 with 1 Axes>",
      "image/png": "[encoded data removed]"
     },
     "metadata": {
      "needs_background": "light"
     },
     "output_type": "display_data"
    },
    {
     "name": "stdout",
     "output_type": "stream",
     "text": [
      "azure_kinect_0 [  46.36941973 -376.84680618 1667.79947061]\n",
      "azure_kinect_1 [ -86.54401743 -246.43095128 1742.13552453]\n",
      "azure_kinect_2 [ 174.7562248  -268.66051454 1720.74616075]\n",
      "kinect_v2_1 [-149.86591469 -307.97543206 1796.57974661]\n",
      "kinect_v2_2 [ 213.67195755 -381.38788089 1782.02772082]\n"
     ]
    },
    {
     "data": {
      "text/plain": "<Figure size 432x288 with 1 Axes>",
      "image/png": "[encoded data removed]"
     },
     "metadata": {
      "needs_background": "light"
     },
     "output_type": "display_data"
    },
    {
     "data": {
      "text/plain": "<Figure size 432x288 with 1 Axes>",
      "image/png": "[encoded data removed]"
     },
     "metadata": {
      "needs_background": "light"
     },
     "output_type": "display_data"
    },
    {
     "data": {
      "text/plain": "<Figure size 432x288 with 1 Axes>",
      "image/png": "[encoded data removed]"
     },
     "metadata": {
      "needs_background": "light"
     },
     "output_type": "display_data"
    },
    {
     "data": {
      "text/plain": "<Figure size 432x288 with 1 Axes>",
      "image/png": "[encoded data removed]"
     },
     "metadata": {
      "needs_background": "light"
     },
     "output_type": "display_data"
    }
   ],
   "source": [
    "# frame_idx = 50\n",
    "# point_clouds = {}\n",
    "# trans_inits = {}\n",
    "# for cam in cam_list:\n",
    "#     fname = '%s/%s_calib_snap/depth%04i.png' % (data_dir, cam, frame_idx)\n",
    "#     depth_img = cv2.imread(fname, -1).astype(np.float32)\n",
    "#\n",
    "#     img_mask = substract_foreground(bg_imgs[cam], depth_img)\n",
    "#     img = depth_img * img_mask\n",
    "#\n",
    "#     # project to 3D space\n",
    "#     uvd = depth2uvd(img).reshape([-1, 3])\n",
    "#     uvd = uvd[uvd[:, 2] > 0, :]  # get the point whose depth is greater than 0\n",
    "#     xyz = unprojection(uvd, intr_params['%s_depth' % cam])\n",
    "#\n",
    "#     # transform to azure_kinect_0\n",
    "#     if cam is 'azure_kinect_0':\n",
    "#         point_cloud = xyz.copy()\n",
    "#         trans_init = Transform()  # default identity rotation and zero translation\n",
    "#     else:\n",
    "#         # [cam2-cam1] from cam1 to cam2\n",
    "#         if 'azure_kinect' in cam:\n",
    "#             T_cam2cam1 = Transform(r=extr_params['azure_kinect_0-%s' % cam][0],\n",
    "#                                    t=extr_params['azure_kinect_0-%s' % cam][1])\n",
    "#             trans_init = T_cam2cam1\n",
    "#         elif cam is 'kinect_v2_1':\n",
    "#             T_cam2cam1 = Transform(r=extr_params['azure_kinect_1-kinect_v2_1'][0],\n",
    "#                                    t=extr_params['azure_kinect_1-kinect_v2_1'][1])\n",
    "#             T_cam3cam2 = Transform(r=extr_params['azure_kinect_0-azure_kinect_1'][0],\n",
    "#                                    t=extr_params['azure_kinect_0-azure_kinect_1'][1])\n",
    "#             trans_init = T_cam3cam2 * T_cam2cam1\n",
    "#         else:\n",
    "#             # 'kinect_v2_2'\n",
    "#             T_cam2cam1 = Transform(r=extr_params['azure_kinect_2-kinect_v2_2'][0],\n",
    "#                                    t=extr_params['azure_kinect_2-kinect_v2_2'][1])\n",
    "#             T_cam3cam2 = Transform(r=extr_params['azure_kinect_0-azure_kinect_2'][0],\n",
    "#                                    t=extr_params['azure_kinect_0-azure_kinect_2'][1])\n",
    "#             trans_init = T_cam3cam2 * T_cam2cam1\n",
    "#         point_cloud = trans_init.transform(xyz)\n",
    "#         point_cloud = point_cloud[point_cloud[:, 2] < 4000, :]\n",
    "#     print(cam, np.mean(point_cloud, axis=0))\n",
    "#     point_clouds[cam] = point_cloud\n",
    "#     trans_inits[cam] = trans_init\n",
    "\n"
   ],
   "metadata": {
    "collapsed": false,
    "pycharm": {
     "name": "#%%\n"
    }
   }
  },
  {
   "cell_type": "code",
   "execution_count": 12,
   "outputs": [
    {
     "ename": "RuntimeError",
     "evalue": "[Open3D ERROR] GLFW Error: WGL: Failed to make context current: The requested transformation operation is not supported. ",
     "output_type": "error",
     "traceback": [
      "\u001B[1;31m---------------------------------------------------------------------------\u001B[0m",
      "\u001B[1;31mRuntimeError\u001B[0m                              Traceback (most recent call last)",
      "\u001B[1;32m<ipython-input-12-fb2f329cdfc4>\u001B[0m in \u001B[0;36m<module>\u001B[1;34m\u001B[0m\n\u001B[0;32m     13\u001B[0m \u001B[1;33m\u001B[0m\u001B[0m\n\u001B[0;32m     14\u001B[0m \u001B[1;31m# o3d.visualization.draw_geometries([voxel_target, voxel_source])\u001B[0m\u001B[1;33m\u001B[0m\u001B[1;33m\u001B[0m\u001B[1;33m\u001B[0m\u001B[0m\n\u001B[1;32m---> 15\u001B[1;33m \u001B[0mo3d\u001B[0m\u001B[1;33m.\u001B[0m\u001B[0mvisualization\u001B[0m\u001B[1;33m.\u001B[0m\u001B[0mdraw_geometries\u001B[0m\u001B[1;33m(\u001B[0m\u001B[1;33m[\u001B[0m\u001B[0mtarget\u001B[0m\u001B[1;33m,\u001B[0m \u001B[0msource\u001B[0m\u001B[1;33m]\u001B[0m\u001B[1;33m)\u001B[0m\u001B[1;33m\u001B[0m\u001B[1;33m\u001B[0m\u001B[0m\n\u001B[0m\u001B[0;32m     16\u001B[0m \u001B[1;33m\u001B[0m\u001B[0m\n\u001B[0;32m     17\u001B[0m \u001B[1;33m\u001B[0m\u001B[0m\n",
      "\u001B[1;31mRuntimeError\u001B[0m: [Open3D ERROR] GLFW Error: WGL: Failed to make context current: The requested transformation operation is not supported. "
     ]
    }
   ],
   "source": [
    "# target = o3d.geometry.PointCloud()\n",
    "# target.points = o3d.utility.Vector3dVector(point_clouds['azure_kinect_0'])\n",
    "# # voxel_target = target.voxel_down_sample(voxel_size=0.05)\n",
    "# target.paint_uniform_color([0, 0.651, 0.929])\n",
    "#\n",
    "# source = o3d.geometry.PointCloud()\n",
    "# source.points = o3d.utility.Vector3dVector(point_clouds['azure_kinect_2'])\n",
    "# # voxel_source = source.voxel_down_sample(voxel_size=0.05)\n",
    "# source.paint_uniform_color([1, 0.706, 0])\n",
    "#\n",
    "#\n",
    "# # o3d.visualization.draw_geometries([voxel_target, voxel_source])\n",
    "# o3d.visualization.draw_geometries([target, source])\n"
   ],
   "metadata": {
    "collapsed": false,
    "pycharm": {
     "name": "#%%\n"
    }
   }
  },
  {
   "cell_type": "code",
   "execution_count": 18,
   "outputs": [
    {
     "ename": "RuntimeError",
     "evalue": "[Open3D ERROR] GLFW Error: WGL: Failed to make context current: The handle is invalid. ",
     "output_type": "error",
     "traceback": [
      "\u001B[1;31m---------------------------------------------------------------------------\u001B[0m",
      "\u001B[1;31mRuntimeError\u001B[0m                              Traceback (most recent call last)",
      "\u001B[1;32m<ipython-input-18-519499079660>\u001B[0m in \u001B[0;36m<module>\u001B[1;34m\u001B[0m\n\u001B[0;32m     11\u001B[0m \u001B[1;33m\u001B[0m\u001B[0m\n\u001B[0;32m     12\u001B[0m \u001B[1;31m# o3d.visualization.draw_geometries([voxel_target, voxel_source])\u001B[0m\u001B[1;33m\u001B[0m\u001B[1;33m\u001B[0m\u001B[1;33m\u001B[0m\u001B[0m\n\u001B[1;32m---> 13\u001B[1;33m \u001B[0mo3d\u001B[0m\u001B[1;33m.\u001B[0m\u001B[0mvisualization\u001B[0m\u001B[1;33m.\u001B[0m\u001B[0mdraw_geometries\u001B[0m\u001B[1;33m(\u001B[0m\u001B[1;33m[\u001B[0m\u001B[0mtarget\u001B[0m\u001B[1;33m,\u001B[0m \u001B[0msource\u001B[0m\u001B[1;33m]\u001B[0m\u001B[1;33m)\u001B[0m\u001B[1;33m\u001B[0m\u001B[1;33m\u001B[0m\u001B[0m\n\u001B[0m\u001B[0;32m     14\u001B[0m \u001B[1;33m\u001B[0m\u001B[0m\n\u001B[0;32m     15\u001B[0m \u001B[1;33m\u001B[0m\u001B[0m\n",
      "\u001B[1;31mRuntimeError\u001B[0m: [Open3D ERROR] GLFW Error: WGL: Failed to make context current: The handle is invalid. "
     ]
    }
   ],
   "source": [
    "# target = o3d.geometry.PointCloud()\n",
    "# target.points = o3d.utility.Vector3dVector(point_clouds['azure_kinect_0'])\n",
    "# # voxel_target = target.voxel_down_sample(voxel_size=0.05)\n",
    "# target.paint_uniform_color([0, 0.651, 0.929])\n",
    "#\n",
    "# source = o3d.geometry.PointCloud()\n",
    "# source.points = o3d.utility.Vector3dVector(point_clouds['kinect_v2_1'])\n",
    "# # voxel_source = source.voxel_down_sample(voxel_size=0.05)\n",
    "# source.paint_uniform_color([1, 0.706, 0])\n",
    "#\n",
    "#\n",
    "# # o3d.visualization.draw_geometries([voxel_target, voxel_source])\n",
    "# o3d.visualization.draw_geometries([target, source])\n"
   ],
   "metadata": {
    "collapsed": false,
    "pycharm": {
     "name": "#%%\n"
    }
   }
  },
  {
   "cell_type": "code",
   "execution_count": 7,
   "outputs": [],
   "source": [
    "def get_tranform_mtx(r, t):\n",
    "    T = np.zeros([4, 4])\n",
    "    T[0:3, 0:3] = r\n",
    "    T[0:3, 3] = np.squeeze(t)\n",
    "    T[3, 3] = 1\n",
    "    return T\n",
    "\n",
    "def get_homo_point(xyz):\n",
    "    assert xyz.shape[1] == 3\n",
    "    one_array = np.ones([xyz.shape[0], 1])\n",
    "    xyz_homo = np.concatenate([xyz, one_array], axis=1)\n",
    "    return xyz_homo"
   ],
   "metadata": {
    "collapsed": false,
    "pycharm": {
     "name": "#%%\n"
    }
   }
  },
  {
   "cell_type": "code",
   "execution_count": 17,
   "outputs": [
    {
     "data": {
      "text/plain": "<Figure size 432x288 with 1 Axes>",
      "image/png": "[encoded data removed]"
     },
     "metadata": {
      "needs_background": "light"
     },
     "output_type": "display_data"
    },
    {
     "data": {
      "text/plain": "<Figure size 432x288 with 1 Axes>",
      "image/png": "[encoded data removed]"
     },
     "metadata": {
      "needs_background": "light"
     },
     "output_type": "display_data"
    },
    {
     "data": {
      "text/plain": "<Figure size 432x288 with 1 Axes>",
      "image/png": "[encoded data removed]"
     },
     "metadata": {
      "needs_background": "light"
     },
     "output_type": "display_data"
    },
    {
     "data": {
      "text/plain": "<Figure size 432x288 with 1 Axes>",
      "image/png": "[encoded data removed]"
     },
     "metadata": {
      "needs_background": "light"
     },
     "output_type": "display_data"
    },
    {
     "data": {
      "text/plain": "<Figure size 432x288 with 1 Axes>",
      "image/png": "[encoded data removed]"
     },
     "metadata": {
      "needs_background": "light"
     },
     "output_type": "display_data"
    }
   ],
   "source": [
    "frame_idx = 121\n",
    "pcds = []\n",
    "trans_inits = []\n",
    "# ['azure_kinect_0', 'azure_kinect_1', 'azure_kinect_2', 'kinect_v2_1', 'kinect_v2_2']\n",
    "for cam in cam_list:\n",
    "    fname = '%s/%s_calib_snap/depth%04i.png' % (data_dir, cam, frame_idx)\n",
    "    depth_img = cv2.imread(fname, -1).astype(np.float32)\n",
    "\n",
    "    img_mask = substract_foreground(bg_imgs[cam], depth_img)\n",
    "    img = depth_img * img_mask\n",
    "\n",
    "    # project to 3D space\n",
    "    uvd = depth2uvd(img).reshape([-1, 3])\n",
    "    uvd = uvd[uvd[:, 2] > 0, :]  # get the point whose depth is greater than 0\n",
    "    uvd = uvd[uvd[:, 2] < 4000, :]\n",
    "    xyz = unprojection(uvd, intr_params['%s_depth' % cam])\n",
    "\n",
    "    pcd = o3d.geometry.PointCloud()\n",
    "    pcd.points = o3d.utility.Vector3dVector(xyz)\n",
    "    pcd.estimate_normals(search_param=o3d.geometry.KDTreeSearchParamHybrid(radius=30, max_nn=30))\n",
    "    pcds.append(pcd)"
   ],
   "metadata": {
    "collapsed": false,
    "pycharm": {
     "name": "#%%\n"
    }
   }
  },
  {
   "cell_type": "code",
   "execution_count": 10,
   "outputs": [
    {
     "name": "stdout",
     "output_type": "stream",
     "text": [
      "azure_kinect_0 [ -86.46805704 -364.53336044 2153.62129384]\n",
      "azure_kinect_1 [-227.26035137 -276.34556559 2181.41523706]\n",
      "azure_kinect_2 [  11.91609825 -315.44704742 2190.6621321 ]\n",
      "kinect_v2_1 [-240.93149886 -325.63077489 2246.56884721]\n",
      "kinect_v2_2 [  50.9061553  -358.14629386 2267.81345635]\n"
     ]
    }
   ],
   "source": [
    "# aggregate transformation matrix\n",
    "print(cam_list[0], np.mean(np.asarray(pcds[0].points), axis=0))\n",
    "\n",
    "# from cam2 to cam1\n",
    "T_cam1cam2 = get_tranform_mtx(extr_params['azure_kinect_0-azure_kinect_1'][0],\n",
    "                              extr_params['azure_kinect_0-azure_kinect_1'][1])\n",
    "pts = get_homo_point(np.asarray(pcds[1].points))\n",
    "pts = np.dot(T_cam1cam2, pts.T).T\n",
    "print(cam_list[1], np.mean(pts[:, 0:3], axis=0))\n",
    "\n",
    "# from cam3 to cam1\n",
    "T_cam1cam3 = get_tranform_mtx(extr_params['azure_kinect_0-azure_kinect_2'][0],\n",
    "                              extr_params['azure_kinect_0-azure_kinect_2'][1])\n",
    "pts = get_homo_point(np.asarray(pcds[2].points))\n",
    "pts = np.dot(T_cam1cam3, pts.T).T\n",
    "print(cam_list[2], np.mean(pts[:, 0:3], axis=0))\n",
    "\n",
    "# from cam4 to cam2\n",
    "T_cam2cam4 = get_tranform_mtx(extr_params['azure_kinect_1-kinect_v2_1'][0],\n",
    "                              extr_params['azure_kinect_1-kinect_v2_1'][1])\n",
    "T_cam1cam4 = np.dot(T_cam1cam2, T_cam2cam4)\n",
    "pts = get_homo_point(np.asarray(pcds[3].points))\n",
    "pts = np.dot(T_cam1cam2, np.dot(T_cam2cam4, pts.T)).T\n",
    "print(cam_list[3], np.mean(pts[:, 0:3], axis=0))\n",
    "\n",
    "# from cam5 to cam3\n",
    "T_cam3cam5 = get_tranform_mtx(extr_params['azure_kinect_2-kinect_v2_2'][0],\n",
    "                              extr_params['azure_kinect_2-kinect_v2_2'][1])\n",
    "T_cam1cam5 = np.dot(T_cam1cam3, T_cam3cam5)\n",
    "pts = get_homo_point(np.asarray(pcds[4].points))\n",
    "pts = np.dot(T_cam1cam3, np.dot(T_cam3cam5, pts.T)).T\n",
    "print(cam_list[4], np.mean(pts[:, 0:3], axis=0))"
   ],
   "metadata": {
    "collapsed": false,
    "pycharm": {
     "name": "#%%\n"
    }
   }
  },
  {
   "cell_type": "code",
   "execution_count": 18,
   "outputs": [
    {
     "name": "stdout",
     "output_type": "stream",
     "text": [
      "[Open3D DEBUG] ICP Iteration #0: Fitness 0.8208, RMSE 10.4251\n",
      "[Open3D DEBUG] Residual : 7.38e+01 (# of elements : 24930)\n",
      "[Open3D DEBUG] ICP Iteration #1: Fitness 0.8200, RMSE 9.2962\n",
      "[Open3D DEBUG] Residual : 4.56e+01 (# of elements : 24907)\n",
      "[Open3D DEBUG] ICP Iteration #2: Fitness 0.8162, RMSE 9.1623\n",
      "[Open3D DEBUG] Residual : 4.18e+01 (# of elements : 24792)\n",
      "[Open3D DEBUG] ICP Iteration #3: Fitness 0.8151, RMSE 9.1477\n",
      "[Open3D DEBUG] Residual : 4.14e+01 (# of elements : 24757)\n",
      "[Open3D DEBUG] ICP Iteration #4: Fitness 0.8148, RMSE 9.1449\n",
      "[Open3D DEBUG] Residual : 4.13e+01 (# of elements : 24750)\n",
      "[Open3D DEBUG] ICP Iteration #5: Fitness 0.8147, RMSE 9.1423\n",
      "[Open3D DEBUG] Residual : 4.13e+01 (# of elements : 24746)\n",
      "[Open3D DEBUG] ICP Iteration #6: Fitness 0.8147, RMSE 9.1429\n",
      "[Open3D DEBUG] Residual : 4.13e+01 (# of elements : 24746)\n",
      "[Open3D DEBUG] ICP Iteration #7: Fitness 0.8147, RMSE 9.1433\n",
      "[Open3D DEBUG] Residual : 4.13e+01 (# of elements : 24746)\n",
      "[Open3D DEBUG] ICP Iteration #8: Fitness 0.8147, RMSE 9.1439\n",
      "[Open3D DEBUG] Residual : 4.13e+01 (# of elements : 24746)\n",
      "[Open3D DEBUG] ICP Iteration #9: Fitness 0.8147, RMSE 9.1437\n",
      "[Open3D DEBUG] Residual : 4.13e+01 (# of elements : 24746)\n",
      "[Open3D DEBUG] ICP Iteration #10: Fitness 0.8147, RMSE 9.1438\n",
      "[Open3D DEBUG] Residual : 4.13e+01 (# of elements : 24746)\n",
      "[Open3D DEBUG] ICP Iteration #11: Fitness 0.8147, RMSE 9.1438\n",
      "[Open3D DEBUG] Residual : 4.13e+01 (# of elements : 24746)\n",
      "[Open3D DEBUG] ICP Iteration #12: Fitness 0.8147, RMSE 9.1438\n",
      "[Open3D DEBUG] Residual : 4.13e+01 (# of elements : 24746)\n",
      "[Open3D DEBUG] ICP Iteration #13: Fitness 0.8147, RMSE 9.1438\n",
      "[Open3D DEBUG] Residual : 4.13e+01 (# of elements : 24746)\n",
      "[Open3D DEBUG] ICP Iteration #14: Fitness 0.8147, RMSE 9.1438\n",
      "[Open3D DEBUG] Residual : 4.13e+01 (# of elements : 24746)\n",
      "[Open3D DEBUG] ICP Iteration #15: Fitness 0.8147, RMSE 9.1438\n",
      "[Open3D DEBUG] Residual : 4.13e+01 (# of elements : 24746)\n",
      "[Open3D DEBUG] ICP Iteration #16: Fitness 0.8147, RMSE 9.1438\n",
      "[Open3D DEBUG] Residual : 4.13e+01 (# of elements : 24746)\n",
      "[Open3D DEBUG] ICP Iteration #17: Fitness 0.8147, RMSE 9.1438\n",
      "[Open3D DEBUG] Residual : 4.13e+01 (# of elements : 24746)\n",
      "[Open3D DEBUG] ICP Iteration #18: Fitness 0.8147, RMSE 9.1438\n",
      "[Open3D DEBUG] Residual : 4.13e+01 (# of elements : 24746)\n",
      "[Open3D DEBUG] ICP Iteration #19: Fitness 0.8147, RMSE 9.1438\n",
      "[Open3D DEBUG] Residual : 4.13e+01 (# of elements : 24746)\n",
      "[Open3D DEBUG] ICP Iteration #20: Fitness 0.8147, RMSE 9.1438\n",
      "[Open3D DEBUG] Residual : 4.13e+01 (# of elements : 24746)\n",
      "[Open3D DEBUG] ICP Iteration #21: Fitness 0.8147, RMSE 9.1438\n",
      "[Open3D DEBUG] Residual : 4.13e+01 (# of elements : 24746)\n",
      "[Open3D DEBUG] ICP Iteration #22: Fitness 0.8147, RMSE 9.1438\n",
      "[Open3D DEBUG] Residual : 4.13e+01 (# of elements : 24746)\n",
      "[Open3D DEBUG] ICP Iteration #23: Fitness 0.8147, RMSE 9.1438\n",
      "[Open3D DEBUG] Residual : 4.13e+01 (# of elements : 24746)\n",
      "[Open3D DEBUG] ICP Iteration #24: Fitness 0.8147, RMSE 9.1438\n",
      "[Open3D DEBUG] Residual : 4.13e+01 (# of elements : 24746)\n",
      "[Open3D DEBUG] ICP Iteration #25: Fitness 0.8147, RMSE 9.1438\n",
      "[Open3D DEBUG] Residual : 4.13e+01 (# of elements : 24746)\n",
      "[Open3D DEBUG] ICP Iteration #26: Fitness 0.8147, RMSE 9.1438\n",
      "[Open3D DEBUG] Residual : 4.13e+01 (# of elements : 24746)\n",
      "[Open3D DEBUG] ICP Iteration #27: Fitness 0.8147, RMSE 9.1438\n",
      "[Open3D DEBUG] Residual : 4.13e+01 (# of elements : 24746)\n",
      "[Open3D DEBUG] ICP Iteration #28: Fitness 0.8147, RMSE 9.1438\n",
      "[Open3D DEBUG] Residual : 4.13e+01 (# of elements : 24746)\n",
      "[Open3D DEBUG] ICP Iteration #29: Fitness 0.8147, RMSE 9.1438\n",
      "[Open3D DEBUG] Residual : 4.13e+01 (# of elements : 24746)\n",
      "[Open3D DEBUG] ICP Iteration #0: Fitness 0.8879, RMSE 9.2062\n",
      "[Open3D DEBUG] Residual : 6.31e+01 (# of elements : 28324)\n",
      "[Open3D DEBUG] ICP Iteration #1: Fitness 0.8870, RMSE 8.5162\n",
      "[Open3D DEBUG] Residual : 4.31e+01 (# of elements : 28296)\n",
      "[Open3D DEBUG] ICP Iteration #2: Fitness 0.8855, RMSE 8.5079\n",
      "[Open3D DEBUG] Residual : 4.23e+01 (# of elements : 28246)\n",
      "[Open3D DEBUG] ICP Iteration #3: Fitness 0.8852, RMSE 8.5051\n",
      "[Open3D DEBUG] Residual : 4.22e+01 (# of elements : 28238)\n",
      "[Open3D DEBUG] ICP Iteration #4: Fitness 0.8851, RMSE 8.5025\n",
      "[Open3D DEBUG] Residual : 4.22e+01 (# of elements : 28235)\n",
      "[Open3D DEBUG] ICP Iteration #5: Fitness 0.8851, RMSE 8.5018\n",
      "[Open3D DEBUG] Residual : 4.22e+01 (# of elements : 28234)\n",
      "[Open3D DEBUG] ICP Iteration #6: Fitness 0.8851, RMSE 8.5017\n",
      "[Open3D DEBUG] Residual : 4.22e+01 (# of elements : 28234)\n",
      "[Open3D DEBUG] ICP Iteration #7: Fitness 0.8851, RMSE 8.5017\n",
      "[Open3D DEBUG] Residual : 4.22e+01 (# of elements : 28234)\n",
      "[Open3D DEBUG] ICP Iteration #8: Fitness 0.8851, RMSE 8.5017\n",
      "[Open3D DEBUG] Residual : 4.22e+01 (# of elements : 28234)\n",
      "[Open3D DEBUG] ICP Iteration #9: Fitness 0.8851, RMSE 8.5017\n",
      "[Open3D DEBUG] Residual : 4.22e+01 (# of elements : 28234)\n",
      "[Open3D DEBUG] ICP Iteration #0: Fitness 0.6031, RMSE 12.8757\n",
      "[Open3D DEBUG] Residual : 1.38e+02 (# of elements : 8537)\n",
      "[Open3D DEBUG] ICP Iteration #1: Fitness 0.6302, RMSE 11.8573\n",
      "[Open3D DEBUG] Residual : 9.61e+01 (# of elements : 8921)\n",
      "[Open3D DEBUG] ICP Iteration #2: Fitness 0.6254, RMSE 11.7560\n",
      "[Open3D DEBUG] Residual : 8.62e+01 (# of elements : 8853)\n",
      "[Open3D DEBUG] ICP Iteration #3: Fitness 0.6212, RMSE 11.7133\n",
      "[Open3D DEBUG] Residual : 8.36e+01 (# of elements : 8794)\n",
      "[Open3D DEBUG] ICP Iteration #4: Fitness 0.6196, RMSE 11.7036\n",
      "[Open3D DEBUG] Residual : 8.25e+01 (# of elements : 8771)\n",
      "[Open3D DEBUG] ICP Iteration #5: Fitness 0.6187, RMSE 11.6903\n",
      "[Open3D DEBUG] Residual : 8.21e+01 (# of elements : 8758)\n",
      "[Open3D DEBUG] ICP Iteration #6: Fitness 0.6184, RMSE 11.6877\n",
      "[Open3D DEBUG] Residual : 8.20e+01 (# of elements : 8754)\n",
      "[Open3D DEBUG] ICP Iteration #7: Fitness 0.6184, RMSE 11.6893\n",
      "[Open3D DEBUG] Residual : 8.20e+01 (# of elements : 8754)\n",
      "[Open3D DEBUG] ICP Iteration #8: Fitness 0.6184, RMSE 11.6914\n",
      "[Open3D DEBUG] Residual : 8.20e+01 (# of elements : 8754)\n",
      "[Open3D DEBUG] ICP Iteration #9: Fitness 0.6184, RMSE 11.6913\n",
      "[Open3D DEBUG] Residual : 8.20e+01 (# of elements : 8754)\n",
      "[Open3D DEBUG] ICP Iteration #10: Fitness 0.6184, RMSE 11.6913\n",
      "[Open3D DEBUG] Residual : 8.20e+01 (# of elements : 8754)\n",
      "[Open3D DEBUG] ICP Iteration #11: Fitness 0.6184, RMSE 11.6913\n",
      "[Open3D DEBUG] Residual : 8.20e+01 (# of elements : 8754)\n",
      "[Open3D DEBUG] ICP Iteration #12: Fitness 0.6184, RMSE 11.6913\n",
      "[Open3D DEBUG] Residual : 8.20e+01 (# of elements : 8754)\n",
      "[Open3D DEBUG] ICP Iteration #13: Fitness 0.6184, RMSE 11.6913\n",
      "[Open3D DEBUG] Residual : 8.20e+01 (# of elements : 8754)\n",
      "[Open3D DEBUG] ICP Iteration #14: Fitness 0.6184, RMSE 11.6912\n",
      "[Open3D DEBUG] Residual : 8.20e+01 (# of elements : 8754)\n",
      "[Open3D DEBUG] ICP Iteration #15: Fitness 0.6184, RMSE 11.6912\n",
      "[Open3D DEBUG] Residual : 8.20e+01 (# of elements : 8754)\n",
      "[Open3D DEBUG] ICP Iteration #0: Fitness 0.6089, RMSE 12.7398\n",
      "[Open3D DEBUG] Residual : 1.31e+02 (# of elements : 10918)\n",
      "[Open3D DEBUG] ICP Iteration #1: Fitness 0.5968, RMSE 12.0782\n",
      "[Open3D DEBUG] Residual : 1.09e+02 (# of elements : 10701)\n",
      "[Open3D DEBUG] ICP Iteration #2: Fitness 0.5920, RMSE 11.8883\n",
      "[Open3D DEBUG] Residual : 1.04e+02 (# of elements : 10615)\n",
      "[Open3D DEBUG] ICP Iteration #3: Fitness 0.5905, RMSE 11.8195\n",
      "[Open3D DEBUG] Residual : 1.02e+02 (# of elements : 10587)\n",
      "[Open3D DEBUG] ICP Iteration #4: Fitness 0.5904, RMSE 11.8155\n",
      "[Open3D DEBUG] Residual : 1.03e+02 (# of elements : 10586)\n",
      "[Open3D DEBUG] ICP Iteration #5: Fitness 0.5902, RMSE 11.8063\n",
      "[Open3D DEBUG] Residual : 1.03e+02 (# of elements : 10583)\n",
      "[Open3D DEBUG] ICP Iteration #6: Fitness 0.5899, RMSE 11.7969\n",
      "[Open3D DEBUG] Residual : 1.02e+02 (# of elements : 10577)\n",
      "[Open3D DEBUG] ICP Iteration #7: Fitness 0.5902, RMSE 11.8154\n",
      "[Open3D DEBUG] Residual : 1.03e+02 (# of elements : 10582)\n",
      "[Open3D DEBUG] ICP Iteration #8: Fitness 0.5902, RMSE 11.8136\n",
      "[Open3D DEBUG] Residual : 1.03e+02 (# of elements : 10582)\n",
      "[Open3D DEBUG] ICP Iteration #9: Fitness 0.5902, RMSE 11.8143\n",
      "[Open3D DEBUG] Residual : 1.03e+02 (# of elements : 10582)\n",
      "[Open3D DEBUG] ICP Iteration #10: Fitness 0.5902, RMSE 11.8170\n",
      "[Open3D DEBUG] Residual : 1.03e+02 (# of elements : 10583)\n",
      "[Open3D DEBUG] ICP Iteration #11: Fitness 0.5902, RMSE 11.8163\n",
      "[Open3D DEBUG] Residual : 1.03e+02 (# of elements : 10583)\n",
      "[Open3D DEBUG] ICP Iteration #12: Fitness 0.5902, RMSE 11.8161\n",
      "[Open3D DEBUG] Residual : 1.03e+02 (# of elements : 10583)\n",
      "[Open3D DEBUG] ICP Iteration #13: Fitness 0.5902, RMSE 11.8161\n",
      "[Open3D DEBUG] Residual : 1.03e+02 (# of elements : 10583)\n",
      "[Open3D DEBUG] ICP Iteration #14: Fitness 0.5902, RMSE 11.8160\n",
      "[Open3D DEBUG] Residual : 1.03e+02 (# of elements : 10583)\n",
      "[Open3D DEBUG] ICP Iteration #15: Fitness 0.5902, RMSE 11.8160\n",
      "[Open3D DEBUG] Residual : 1.03e+02 (# of elements : 10583)\n",
      "[Open3D DEBUG] ICP Iteration #0: Fitness 0.3211, RMSE 15.3343\n",
      "[Open3D DEBUG] Residual : 1.88e+02 (# of elements : 4546)\n",
      "[Open3D DEBUG] ICP Iteration #1: Fitness 0.3721, RMSE 14.6167\n",
      "[Open3D DEBUG] Residual : 1.56e+02 (# of elements : 5267)\n",
      "[Open3D DEBUG] ICP Iteration #2: Fitness 0.3945, RMSE 14.8314\n",
      "[Open3D DEBUG] Residual : 1.60e+02 (# of elements : 5584)\n",
      "[Open3D DEBUG] ICP Iteration #3: Fitness 0.4046, RMSE 15.1235\n",
      "[Open3D DEBUG] Residual : 1.66e+02 (# of elements : 5728)\n",
      "[Open3D DEBUG] ICP Iteration #4: Fitness 0.4091, RMSE 15.3359\n",
      "[Open3D DEBUG] Residual : 1.69e+02 (# of elements : 5791)\n",
      "[Open3D DEBUG] ICP Iteration #5: Fitness 0.4101, RMSE 15.4808\n",
      "[Open3D DEBUG] Residual : 1.72e+02 (# of elements : 5805)\n",
      "[Open3D DEBUG] ICP Iteration #6: Fitness 0.4098, RMSE 15.6446\n",
      "[Open3D DEBUG] Residual : 1.73e+02 (# of elements : 5801)\n",
      "[Open3D DEBUG] ICP Iteration #7: Fitness 0.4078, RMSE 15.7505\n",
      "[Open3D DEBUG] Residual : 1.73e+02 (# of elements : 5773)\n",
      "[Open3D DEBUG] ICP Iteration #8: Fitness 0.4041, RMSE 15.7816\n",
      "[Open3D DEBUG] Residual : 1.70e+02 (# of elements : 5721)\n",
      "[Open3D DEBUG] ICP Iteration #9: Fitness 0.4004, RMSE 15.7978\n",
      "[Open3D DEBUG] Residual : 1.67e+02 (# of elements : 5668)\n",
      "[Open3D DEBUG] ICP Iteration #10: Fitness 0.3969, RMSE 15.7650\n",
      "[Open3D DEBUG] Residual : 1.66e+02 (# of elements : 5618)\n",
      "[Open3D DEBUG] ICP Iteration #11: Fitness 0.3929, RMSE 15.7464\n",
      "[Open3D DEBUG] Residual : 1.64e+02 (# of elements : 5562)\n",
      "[Open3D DEBUG] ICP Iteration #12: Fitness 0.3897, RMSE 15.7052\n",
      "[Open3D DEBUG] Residual : 1.62e+02 (# of elements : 5517)\n",
      "[Open3D DEBUG] ICP Iteration #13: Fitness 0.3866, RMSE 15.6635\n",
      "[Open3D DEBUG] Residual : 1.60e+02 (# of elements : 5473)\n",
      "[Open3D DEBUG] ICP Iteration #14: Fitness 0.3842, RMSE 15.6409\n",
      "[Open3D DEBUG] Residual : 1.58e+02 (# of elements : 5439)\n",
      "[Open3D DEBUG] ICP Iteration #15: Fitness 0.3825, RMSE 15.6034\n",
      "[Open3D DEBUG] Residual : 1.57e+02 (# of elements : 5415)\n",
      "[Open3D DEBUG] ICP Iteration #16: Fitness 0.3820, RMSE 15.6015\n",
      "[Open3D DEBUG] Residual : 1.57e+02 (# of elements : 5407)\n",
      "[Open3D DEBUG] ICP Iteration #17: Fitness 0.3815, RMSE 15.6060\n",
      "[Open3D DEBUG] Residual : 1.57e+02 (# of elements : 5401)\n",
      "[Open3D DEBUG] ICP Iteration #18: Fitness 0.3813, RMSE 15.6000\n",
      "[Open3D DEBUG] Residual : 1.57e+02 (# of elements : 5398)\n",
      "[Open3D DEBUG] ICP Iteration #19: Fitness 0.3813, RMSE 15.5964\n",
      "[Open3D DEBUG] Residual : 1.57e+02 (# of elements : 5398)\n",
      "[Open3D DEBUG] ICP Iteration #20: Fitness 0.3813, RMSE 15.5947\n",
      "[Open3D DEBUG] Residual : 1.57e+02 (# of elements : 5398)\n",
      "[Open3D DEBUG] ICP Iteration #21: Fitness 0.3813, RMSE 15.5940\n",
      "[Open3D DEBUG] Residual : 1.57e+02 (# of elements : 5398)\n",
      "[Open3D DEBUG] ICP Iteration #22: Fitness 0.3813, RMSE 15.5935\n",
      "[Open3D DEBUG] Residual : 1.57e+02 (# of elements : 5398)\n",
      "[Open3D DEBUG] ICP Iteration #23: Fitness 0.3813, RMSE 15.5906\n",
      "[Open3D DEBUG] Residual : 1.57e+02 (# of elements : 5398)\n",
      "[Open3D DEBUG] ICP Iteration #24: Fitness 0.3814, RMSE 15.5929\n",
      "[Open3D DEBUG] Residual : 1.57e+02 (# of elements : 5399)\n",
      "[Open3D DEBUG] ICP Iteration #25: Fitness 0.3814, RMSE 15.5951\n",
      "[Open3D DEBUG] Residual : 1.57e+02 (# of elements : 5399)\n",
      "[Open3D DEBUG] ICP Iteration #26: Fitness 0.3814, RMSE 15.5952\n",
      "[Open3D DEBUG] Residual : 1.57e+02 (# of elements : 5399)\n",
      "[Open3D DEBUG] ICP Iteration #27: Fitness 0.3815, RMSE 15.5973\n",
      "[Open3D DEBUG] Residual : 1.57e+02 (# of elements : 5400)\n",
      "[Open3D DEBUG] ICP Iteration #28: Fitness 0.3815, RMSE 15.5962\n",
      "[Open3D DEBUG] Residual : 1.57e+02 (# of elements : 5400)\n",
      "[Open3D DEBUG] ICP Iteration #29: Fitness 0.3815, RMSE 15.5957\n",
      "[Open3D DEBUG] Residual : 1.57e+02 (# of elements : 5400)\n",
      "[Open3D DEBUG] ICP Iteration #0: Fitness 0.2897, RMSE 16.3897\n",
      "[Open3D DEBUG] Residual : 1.58e+02 (# of elements : 5194)\n",
      "[Open3D DEBUG] ICP Iteration #1: Fitness 0.3119, RMSE 16.3995\n",
      "[Open3D DEBUG] Residual : 1.52e+02 (# of elements : 5592)\n",
      "[Open3D DEBUG] ICP Iteration #2: Fitness 0.3270, RMSE 16.8051\n",
      "[Open3D DEBUG] Residual : 1.61e+02 (# of elements : 5864)\n",
      "[Open3D DEBUG] ICP Iteration #3: Fitness 0.3336, RMSE 16.9930\n",
      "[Open3D DEBUG] Residual : 1.67e+02 (# of elements : 5981)\n",
      "[Open3D DEBUG] ICP Iteration #4: Fitness 0.3369, RMSE 17.1234\n",
      "[Open3D DEBUG] Residual : 1.70e+02 (# of elements : 6041)\n",
      "[Open3D DEBUG] ICP Iteration #5: Fitness 0.3385, RMSE 17.1995\n",
      "[Open3D DEBUG] Residual : 1.72e+02 (# of elements : 6070)\n",
      "[Open3D DEBUG] ICP Iteration #6: Fitness 0.3396, RMSE 17.2828\n",
      "[Open3D DEBUG] Residual : 1.75e+02 (# of elements : 6089)\n",
      "[Open3D DEBUG] ICP Iteration #7: Fitness 0.3385, RMSE 17.2653\n",
      "[Open3D DEBUG] Residual : 1.75e+02 (# of elements : 6069)\n",
      "[Open3D DEBUG] ICP Iteration #8: Fitness 0.3361, RMSE 17.1381\n",
      "[Open3D DEBUG] Residual : 1.73e+02 (# of elements : 6026)\n",
      "[Open3D DEBUG] ICP Iteration #9: Fitness 0.3315, RMSE 16.8198\n",
      "[Open3D DEBUG] Residual : 1.70e+02 (# of elements : 5944)\n",
      "[Open3D DEBUG] ICP Iteration #10: Fitness 0.3279, RMSE 16.5876\n",
      "[Open3D DEBUG] Residual : 1.67e+02 (# of elements : 5879)\n",
      "[Open3D DEBUG] ICP Iteration #11: Fitness 0.3242, RMSE 16.5027\n",
      "[Open3D DEBUG] Residual : 1.64e+02 (# of elements : 5813)\n",
      "[Open3D DEBUG] ICP Iteration #12: Fitness 0.3222, RMSE 16.4837\n",
      "[Open3D DEBUG] Residual : 1.63e+02 (# of elements : 5777)\n",
      "[Open3D DEBUG] ICP Iteration #13: Fitness 0.3213, RMSE 16.5414\n",
      "[Open3D DEBUG] Residual : 1.63e+02 (# of elements : 5761)\n",
      "[Open3D DEBUG] ICP Iteration #14: Fitness 0.3189, RMSE 16.5269\n",
      "[Open3D DEBUG] Residual : 1.62e+02 (# of elements : 5717)\n",
      "[Open3D DEBUG] ICP Iteration #15: Fitness 0.3170, RMSE 16.4938\n",
      "[Open3D DEBUG] Residual : 1.61e+02 (# of elements : 5684)\n",
      "[Open3D DEBUG] ICP Iteration #16: Fitness 0.3162, RMSE 16.5247\n",
      "[Open3D DEBUG] Residual : 1.60e+02 (# of elements : 5670)\n",
      "[Open3D DEBUG] ICP Iteration #17: Fitness 0.3157, RMSE 16.5314\n",
      "[Open3D DEBUG] Residual : 1.60e+02 (# of elements : 5660)\n",
      "[Open3D DEBUG] ICP Iteration #18: Fitness 0.3152, RMSE 16.5272\n",
      "[Open3D DEBUG] Residual : 1.60e+02 (# of elements : 5651)\n",
      "[Open3D DEBUG] ICP Iteration #19: Fitness 0.3148, RMSE 16.5236\n",
      "[Open3D DEBUG] Residual : 1.61e+02 (# of elements : 5645)\n",
      "[Open3D DEBUG] ICP Iteration #20: Fitness 0.3143, RMSE 16.5166\n",
      "[Open3D DEBUG] Residual : 1.60e+02 (# of elements : 5635)\n",
      "[Open3D DEBUG] ICP Iteration #21: Fitness 0.3142, RMSE 16.5168\n",
      "[Open3D DEBUG] Residual : 1.60e+02 (# of elements : 5633)\n",
      "[Open3D DEBUG] ICP Iteration #22: Fitness 0.3139, RMSE 16.5085\n",
      "[Open3D DEBUG] Residual : 1.60e+02 (# of elements : 5629)\n",
      "[Open3D DEBUG] ICP Iteration #23: Fitness 0.3138, RMSE 16.4994\n",
      "[Open3D DEBUG] Residual : 1.60e+02 (# of elements : 5627)\n",
      "[Open3D DEBUG] ICP Iteration #24: Fitness 0.3139, RMSE 16.4993\n",
      "[Open3D DEBUG] Residual : 1.60e+02 (# of elements : 5628)\n",
      "[Open3D DEBUG] ICP Iteration #25: Fitness 0.3141, RMSE 16.4976\n",
      "[Open3D DEBUG] Residual : 1.60e+02 (# of elements : 5632)\n",
      "[Open3D DEBUG] ICP Iteration #26: Fitness 0.3143, RMSE 16.5011\n",
      "[Open3D DEBUG] Residual : 1.60e+02 (# of elements : 5636)\n",
      "[Open3D DEBUG] ICP Iteration #27: Fitness 0.3146, RMSE 16.4917\n",
      "[Open3D DEBUG] Residual : 1.61e+02 (# of elements : 5640)\n",
      "[Open3D DEBUG] ICP Iteration #28: Fitness 0.3146, RMSE 16.4708\n",
      "[Open3D DEBUG] Residual : 1.61e+02 (# of elements : 5640)\n",
      "[Open3D DEBUG] ICP Iteration #29: Fitness 0.3148, RMSE 16.4726\n",
      "[Open3D DEBUG] Residual : 1.61e+02 (# of elements : 5645)\n",
      "[Open3D DEBUG] ICP Iteration #0: Fitness 0.3806, RMSE 17.6945\n",
      "[Open3D DEBUG] Residual : 2.24e+02 (# of elements : 5388)\n",
      "[Open3D DEBUG] ICP Iteration #1: Fitness 0.5241, RMSE 15.4604\n",
      "[Open3D DEBUG] Residual : 1.23e+02 (# of elements : 7419)\n",
      "[Open3D DEBUG] ICP Iteration #2: Fitness 0.5085, RMSE 14.8423\n",
      "[Open3D DEBUG] Residual : 9.94e+01 (# of elements : 7199)\n",
      "[Open3D DEBUG] ICP Iteration #3: Fitness 0.5003, RMSE 14.7092\n",
      "[Open3D DEBUG] Residual : 9.28e+01 (# of elements : 7082)\n",
      "[Open3D DEBUG] ICP Iteration #4: Fitness 0.4972, RMSE 14.6613\n",
      "[Open3D DEBUG] Residual : 9.15e+01 (# of elements : 7038)\n",
      "[Open3D DEBUG] ICP Iteration #5: Fitness 0.4956, RMSE 14.6329\n",
      "[Open3D DEBUG] Residual : 9.05e+01 (# of elements : 7016)\n",
      "[Open3D DEBUG] ICP Iteration #6: Fitness 0.4950, RMSE 14.6395\n",
      "[Open3D DEBUG] Residual : 9.01e+01 (# of elements : 7007)\n",
      "[Open3D DEBUG] ICP Iteration #7: Fitness 0.4948, RMSE 14.6242\n",
      "[Open3D DEBUG] Residual : 8.99e+01 (# of elements : 7005)\n",
      "[Open3D DEBUG] ICP Iteration #8: Fitness 0.4948, RMSE 14.6192\n",
      "[Open3D DEBUG] Residual : 8.97e+01 (# of elements : 7004)\n",
      "[Open3D DEBUG] ICP Iteration #9: Fitness 0.4948, RMSE 14.6202\n",
      "[Open3D DEBUG] Residual : 8.97e+01 (# of elements : 7005)\n",
      "[Open3D DEBUG] ICP Iteration #10: Fitness 0.4948, RMSE 14.6191\n",
      "[Open3D DEBUG] Residual : 8.97e+01 (# of elements : 7005)\n",
      "[Open3D DEBUG] ICP Iteration #11: Fitness 0.4948, RMSE 14.6189\n",
      "[Open3D DEBUG] Residual : 8.97e+01 (# of elements : 7005)\n",
      "[Open3D DEBUG] ICP Iteration #12: Fitness 0.4948, RMSE 14.6188\n",
      "[Open3D DEBUG] Residual : 8.97e+01 (# of elements : 7005)\n",
      "[Open3D DEBUG] ICP Iteration #13: Fitness 0.4948, RMSE 14.6187\n",
      "[Open3D DEBUG] Residual : 8.97e+01 (# of elements : 7005)\n",
      "[Open3D DEBUG] ICP Iteration #14: Fitness 0.4948, RMSE 14.6187\n",
      "[Open3D DEBUG] Residual : 8.97e+01 (# of elements : 7005)\n",
      "[Open3D DEBUG] Validating PoseGraph - finished.\n",
      "[Open3D DEBUG] [GlobalOptimizationLM] Optimizing PoseGraph having 5 nodes and 7 edges.\n",
      "[Open3D DEBUG] Line process weight : 11619128.571429\n",
      "[Open3D DEBUG] [Initial     ] residual : 8.523149e+07, lambda : 3.494800e+06\n",
      "[Open3D DEBUG] [Iteration 00] residual : 2.422636e+07, valid edges : 2, time : 0.000 sec.\n",
      "[Open3D DEBUG] [Iteration 01] residual : 2.398930e+07, valid edges : 2, time : 0.000 sec.\n",
      "[Open3D DEBUG] [Iteration 02] residual : 2.352275e+07, valid edges : 2, time : 0.000 sec.\n",
      "[Open3D DEBUG] [Iteration 03] residual : 2.243018e+07, valid edges : 2, time : 0.000 sec.\n",
      "[Open3D DEBUG] [Iteration 04] residual : 2.068106e+07, valid edges : 2, time : 0.000 sec.\n",
      "[Open3D DEBUG] [Iteration 05] residual : 1.925338e+07, valid edges : 2, time : 0.000 sec.\n",
      "[Open3D DEBUG] [Iteration 06] residual : 1.854877e+07, valid edges : 2, time : 0.000 sec.\n",
      "[Open3D DEBUG] [Iteration 07] residual : 1.801146e+07, valid edges : 2, time : 0.000 sec.\n",
      "[Open3D DEBUG] [Iteration 08] residual : 1.733065e+07, valid edges : 2, time : 0.000 sec.\n",
      "[Open3D DEBUG] [Iteration 09] residual : 1.628448e+07, valid edges : 3, time : 0.000 sec.\n",
      "[Open3D DEBUG] [Iteration 10] residual : 1.445831e+07, valid edges : 3, time : 0.000 sec.\n",
      "[Open3D DEBUG] [Iteration 11] residual : 1.307098e+07, valid edges : 3, time : 0.000 sec.\n",
      "[Open3D DEBUG] [Iteration 12] residual : 1.292424e+07, valid edges : 3, time : 0.000 sec.\n",
      "[Open3D DEBUG] [Iteration 13] residual : 1.292103e+07, valid edges : 3, time : 0.000 sec.\n",
      "[Open3D DEBUG] [Iteration 14] residual : 1.292095e+07, valid edges : 3, time : 0.000 sec.\n",
      "[Open3D DEBUG] Current_residual - new_residual < 1.000000e-06 * current_residual\n",
      "[Open3D DEBUG] [GlobalOptimizationLM] total time : 0.003 sec.\n",
      "[Open3D DEBUG] [GlobalOptimizationLM] Optimizing PoseGraph having 5 nodes and 7 edges.\n",
      "[Open3D DEBUG] Line process weight : 11619128.571429\n",
      "[Open3D DEBUG] [Initial     ] residual : 1.292094e+07, lambda : 3.422758e+06\n",
      "[Open3D DEBUG] Delta.norm() < 1.000000e-06 * (x.norm() + 1.000000e-06)\n",
      "[Open3D DEBUG] [GlobalOptimizationLM] total time : 0.000 sec.\n",
      "[Open3D DEBUG] CompensateReferencePoseGraphNode : reference : 0\n"
     ]
    }
   ],
   "source": [
    "def multiway_registration(source_id, target_id, trans_init, pcds,\n",
    "                          uncertain, max_correspondence_distance_fine):\n",
    "    source = pcds[source_id]\n",
    "    target = pcds[target_id]\n",
    "    icp_fine = o3d.registration.registration_icp(\n",
    "        source, target, max_correspondence_distance_fine,\n",
    "        trans_init, o3d.registration.TransformationEstimationPointToPlane())\n",
    "    transformation_icp = icp_fine.transformation\n",
    "    information_icp = o3d.registration.get_information_matrix_from_point_clouds(\n",
    "        source, target, max_correspondence_distance_fine, icp_fine.transformation)\n",
    "\n",
    "    if not uncertain:\n",
    "        return o3d.registration.PoseGraphEdge(source_id, target_id, transformation_icp,\n",
    "                                              information_icp, uncertain=False)\n",
    "    else:\n",
    "        return o3d.registration.PoseGraphEdge(source_id, target_id, transformation_icp,\n",
    "                                              information_icp, uncertain=True)\n",
    "\n",
    "with o3d.utility.VerbosityContextManager(o3d.utility.VerbosityLevel.Debug) as cm:\n",
    "    max_correspondence_distance_fine = 30  # millimeters\n",
    "    pose_graph = o3d.registration.PoseGraph()\n",
    "    pose_graph.nodes.append(o3d.registration.PoseGraphNode(np.identity(4)))  # node cam1\n",
    "\n",
    "    # PoseGraphNode(<transform from the appended node to the root node>)\n",
    "    pose_graph.nodes.append(o3d.registration.PoseGraphNode(T_cam1cam2))  # node cam2\n",
    "    pose_graph.nodes.append(o3d.registration.PoseGraphNode(T_cam1cam3))  # node cam3\n",
    "    pose_graph.nodes.append(o3d.registration.PoseGraphNode(T_cam1cam4))  # node cam4\n",
    "    pose_graph.nodes.append(o3d.registration.PoseGraphNode(T_cam1cam5))  # node cam5\n",
    "\n",
    "    # PoseGraphEdge\n",
    "    pose_graph.edges.append(\n",
    "        multiway_registration(1, 0, T_cam1cam2, pcds, False, max_correspondence_distance_fine))\n",
    "    pose_graph.edges.append(\n",
    "        multiway_registration(2, 0, T_cam1cam3, pcds, False, max_correspondence_distance_fine))\n",
    "    pose_graph.edges.append(\n",
    "        multiway_registration(4, 2, T_cam3cam5, pcds, False, max_correspondence_distance_fine))\n",
    "    pose_graph.edges.append(\n",
    "        multiway_registration(3, 1, T_cam2cam4, pcds, False, max_correspondence_distance_fine))\n",
    "\n",
    "\n",
    "    pose_graph.edges.append(\n",
    "        multiway_registration(4, 0, T_cam1cam5, pcds, True, max_correspondence_distance_fine))\n",
    "    pose_graph.edges.append(\n",
    "        multiway_registration(3, 0, T_cam1cam4, pcds, True, max_correspondence_distance_fine))\n",
    "\n",
    "    # T_cam2cam3 = np.dot(np.linalg.inv(T_cam1cam2), T_cam1cam3)\n",
    "    # pose_graph.edges.append(\n",
    "    #     multiway_registration(2, 1, T_cam2cam3, pcds, True, max_correspondence_distance_fine))\n",
    "    # T_cam2cam5 = np.dot(np.linalg.inv(T_cam1cam2), T_cam1cam5)\n",
    "    # pose_graph.edges.append(\n",
    "    #     multiway_registration(4, 1, T_cam2cam5, pcds, True, max_correspondence_distance_fine))\n",
    "    # T_cam3cam4 = np.dot(np.linalg.inv(T_cam1cam3), T_cam1cam4)\n",
    "    # pose_graph.edges.append(\n",
    "    #     multiway_registration(3, 2, T_cam3cam4, pcds, True, max_correspondence_distance_fine))\n",
    "    T_cam4cam5 = np.dot(np.linalg.inv(T_cam1cam4), T_cam1cam5)\n",
    "    pose_graph.edges.append(\n",
    "        multiway_registration(4, 3, T_cam4cam5, pcds, True, max_correspondence_distance_fine))\n",
    "\n",
    "option = o3d.registration.GlobalOptimizationOption(\n",
    "    max_correspondence_distance=max_correspondence_distance_fine,\n",
    "    edge_prune_threshold=0.25,\n",
    "    reference_node=0)\n",
    "with o3d.utility.VerbosityContextManager(o3d.utility.VerbosityLevel.Debug) as optim:\n",
    "    o3d.registration.global_optimization(\n",
    "        pose_graph, o3d.registration.GlobalOptimizationLevenbergMarquardt(),\n",
    "        o3d.registration.GlobalOptimizationConvergenceCriteria(), option)\n"
   ],
   "metadata": {
    "collapsed": false,
    "pycharm": {
     "name": "#%%\n"
    }
   }
  },
  {
   "cell_type": "code",
   "execution_count": 19,
   "outputs": [
    {
     "name": "stdout",
     "output_type": "stream",
     "text": [
      "-----------------------------------------------------------\n",
      "[[1. 0. 0. 0.]\n",
      " [0. 1. 0. 0.]\n",
      " [0. 0. 1. 0.]\n",
      " [0. 0. 0. 1.]]\n",
      "[[ 1.00000000e+00  1.20278679e-19  0.00000000e+00  1.77635684e-15]\n",
      " [ 1.23666810e-19  1.00000000e+00  8.67361738e-19 -1.77635684e-15]\n",
      " [ 4.33680869e-19  0.00000000e+00  1.00000000e+00  0.00000000e+00]\n",
      " [ 0.00000000e+00  0.00000000e+00  0.00000000e+00  1.00000000e+00]]\n",
      "-----------------------------------------------------------\n",
      "[[ 6.62834124e-01 -2.31605716e-02  7.48407985e-01 -1.75058045e+03]\n",
      " [ 1.91704091e-01  9.71456382e-01 -1.39721289e-01  3.41393495e+01]\n",
      " [-7.23809688e-01  2.36084911e-01  6.48354417e-01  9.31068546e+02]\n",
      " [ 0.00000000e+00  0.00000000e+00  0.00000000e+00  1.00000000e+00]]\n",
      "[[ 6.70770839e-01 -1.75204575e-02  7.41457697e-01 -1.75307621e+03]\n",
      " [ 1.90895883e-01  9.70116873e-01 -1.49773211e-01  5.72077476e+01]\n",
      " [-7.16676527e-01  2.42004724e-01  6.54070692e-01  9.21163625e+02]\n",
      " [ 0.00000000e+00  0.00000000e+00  0.00000000e+00  1.00000000e+00]]\n",
      "-----------------------------------------------------------\n",
      "[[ 5.85876397e-01  3.88967305e-02 -8.09466424e-01  1.62953252e+03]\n",
      " [-1.38819786e-01  9.88900760e-01 -5.29561556e-02  1.15261992e+01]\n",
      " [ 7.98422140e-01  1.43395718e-01  5.84773250e-01  9.48510356e+02]\n",
      " [ 0.00000000e+00  0.00000000e+00  0.00000000e+00  1.00000000e+00]]\n",
      "[[ 5.74891821e-01  4.34339292e-02 -8.17075815e-01  1.65762180e+03]\n",
      " [-1.49359049e-01  9.87382885e-01 -5.26014559e-02  1.02700591e+01]\n",
      " [ 8.04481987e-01  1.52277814e-01  5.74125595e-01  9.75986899e+02]\n",
      " [ 0.00000000e+00  0.00000000e+00  0.00000000e+00  1.00000000e+00]]\n",
      "-----------------------------------------------------------\n",
      "[[-4.52054627e-01 -1.19575802e-01  8.83939049e-01 -2.00429673e+03]\n",
      " [ 4.38712390e-02  9.86794034e-01  1.55925779e-01 -8.75175392e+02]\n",
      " [-8.90910730e-01  1.09266471e-01 -4.40838870e-01  2.84131548e+03]\n",
      " [ 0.00000000e+00  0.00000000e+00  0.00000000e+00  1.00000000e+00]]\n",
      "[[-4.80035009e-01 -1.03455486e-01  8.71127633e-01 -1.99878368e+03]\n",
      " [ 5.12185528e-02  9.88022458e-01  1.45561955e-01 -8.51569307e+02]\n",
      " [-8.75752847e-01  1.14492731e-01 -4.68986530e-01  2.91094616e+03]\n",
      " [ 0.00000000e+00  0.00000000e+00  0.00000000e+00  1.00000000e+00]]\n",
      "-----------------------------------------------------------\n",
      "[[-5.22844408e-01  5.54813302e-02 -8.50620684e-01  1.86476082e+03]\n",
      " [-2.74130079e-01  9.33928597e-01  2.29412455e-01 -8.90604830e+02]\n",
      " [ 8.07147090e-01  3.53127735e-01 -4.73090243e-01  3.06850573e+03]\n",
      " [ 0.00000000e+00  0.00000000e+00  0.00000000e+00  1.00000000e+00]]\n",
      "[[-5.45807271e-01  5.16189329e-02 -8.36319263e-01  1.86495066e+03]\n",
      " [-2.73829933e-01  9.32309785e-01  2.36253323e-01 -9.07741860e+02]\n",
      " [ 7.91903776e-01  3.57958029e-01 -4.94726650e-01  3.13848873e+03]\n",
      " [ 0.00000000e+00  0.00000000e+00  0.00000000e+00  1.00000000e+00]]\n"
     ]
    }
   ],
   "source": [
    "T_list = [np.identity(4), T_cam1cam2, T_cam1cam3, T_cam1cam4, T_cam1cam5]\n",
    "pts_prior_list = []\n",
    "pts_poster_list = []\n",
    "for idx in range(5):\n",
    "    print('-----------------------------------------------------------')\n",
    "    pts = get_homo_point(np.asarray(pcds[idx].points))\n",
    "\n",
    "    print(T_list[idx])\n",
    "    pts_prior = np.dot(T_list[idx], pts.T).T[:, 0:3]\n",
    "    pts_prior_list.append(pts_prior)\n",
    "\n",
    "    print(pose_graph.nodes[idx].pose)\n",
    "    trans = pose_graph.nodes[idx].pose\n",
    "    pts_poster = np.dot(trans, pts.T).T[:, 0:3]\n",
    "    pts_poster_list.append(pts_poster)\n",
    "\n",
    "pts_prior = np.concatenate(pts_prior_list, axis=0)\n",
    "pts_poster = np.concatenate(pts_poster_list, axis=0)\n",
    "\n",
    "pcd_prior = o3d.geometry.PointCloud()\n",
    "pcd_prior.points = o3d.utility.Vector3dVector(pts_prior)\n",
    "_, ind = pcd_prior.remove_radius_outlier(nb_points=30, radius=100)\n",
    "pcd_prior = pcd_prior.select_by_index(ind)\n",
    "\n",
    "pcd_poster = o3d.geometry.PointCloud()\n",
    "pcd_poster.points = o3d.utility.Vector3dVector(pts_poster)\n",
    "_, ind = pcd_poster.remove_radius_outlier(nb_points=30, radius=100)\n",
    "pcd_poster = pcd_poster.select_by_index(ind)"
   ],
   "metadata": {
    "collapsed": false,
    "pycharm": {
     "name": "#%%\n"
    }
   }
  },
  {
   "cell_type": "code",
   "execution_count": 20,
   "outputs": [
    {
     "data": {
      "text/plain": "True"
     },
     "execution_count": 20,
     "metadata": {},
     "output_type": "execute_result"
    }
   ],
   "source": [
    "o3d.io.write_point_cloud(\"%s/prior.ply\" % data_dir, pcd_prior)\n",
    "o3d.io.write_point_cloud(\"%s/poster.ply\" % data_dir, pcd_poster)"
   ],
   "metadata": {
    "collapsed": false,
    "pycharm": {
     "name": "#%%\n"
    }
   }
  },
  {
   "cell_type": "code",
   "execution_count": null,
   "outputs": [],
   "source": [
    "pcd_prior.paint_uniform_color([0, 0.651, 0.929]) # blue\n",
    "pcd_poster.paint_uniform_color([1, 0.706, 0])  # orange\n"
   ],
   "metadata": {
    "collapsed": false,
    "pycharm": {
     "name": "#%%\n"
    }
   }
  },
  {
   "cell_type": "code",
   "execution_count": 60,
   "outputs": [],
   "source": [
    "o3d.visualization.draw_geometries([pcd_prior, pcd_poster])"
   ],
   "metadata": {
    "collapsed": false,
    "pycharm": {
     "name": "#%%\n"
    }
   }
  },
  {
   "cell_type": "code",
   "execution_count": 13,
   "outputs": [
    {
     "ename": "RuntimeError",
     "evalue": "[Open3D ERROR] GLFW Error: WGL: Failed to make context current: The handle is invalid. ",
     "output_type": "error",
     "traceback": [
      "\u001B[1;31m---------------------------------------------------------------------------\u001B[0m",
      "\u001B[1;31mRuntimeError\u001B[0m                              Traceback (most recent call last)",
      "\u001B[1;32m<ipython-input-13-3c72bd23bd85>\u001B[0m in \u001B[0;36m<module>\u001B[1;34m\u001B[0m\n\u001B[1;32m----> 1\u001B[1;33m \u001B[0mo3d\u001B[0m\u001B[1;33m.\u001B[0m\u001B[0mvisualization\u001B[0m\u001B[1;33m.\u001B[0m\u001B[0mdraw_geometries\u001B[0m\u001B[1;33m(\u001B[0m\u001B[1;33m[\u001B[0m\u001B[0mpcd_prior\u001B[0m\u001B[1;33m]\u001B[0m\u001B[1;33m)\u001B[0m\u001B[1;33m\u001B[0m\u001B[1;33m\u001B[0m\u001B[0m\n\u001B[0m\u001B[0;32m      2\u001B[0m \u001B[1;33m\u001B[0m\u001B[0m\n\u001B[0;32m      3\u001B[0m \u001B[1;33m\u001B[0m\u001B[0m\n",
      "\u001B[1;31mRuntimeError\u001B[0m: [Open3D ERROR] GLFW Error: WGL: Failed to make context current: The handle is invalid. "
     ]
    }
   ],
   "source": [
    "o3d.visualization.draw_geometries([pcd_prior])\n"
   ],
   "metadata": {
    "collapsed": false,
    "pycharm": {
     "name": "#%%\n"
    }
   }
  },
  {
   "cell_type": "code",
   "execution_count": 31,
   "outputs": [
    {
     "ename": "RuntimeError",
     "evalue": "[Open3D ERROR] GLFW Error: WGL: Failed to make context current: The handle is invalid. ",
     "output_type": "error",
     "traceback": [
      "\u001B[1;31m---------------------------------------------------------------------------\u001B[0m",
      "\u001B[1;31mRuntimeError\u001B[0m                              Traceback (most recent call last)",
      "\u001B[1;32m<ipython-input-31-e949653d85d6>\u001B[0m in \u001B[0;36m<module>\u001B[1;34m\u001B[0m\n\u001B[1;32m----> 1\u001B[1;33m \u001B[0mo3d\u001B[0m\u001B[1;33m.\u001B[0m\u001B[0mvisualization\u001B[0m\u001B[1;33m.\u001B[0m\u001B[0mdraw_geometries\u001B[0m\u001B[1;33m(\u001B[0m\u001B[1;33m[\u001B[0m\u001B[0mpcd_poster\u001B[0m\u001B[1;33m]\u001B[0m\u001B[1;33m)\u001B[0m\u001B[1;33m\u001B[0m\u001B[1;33m\u001B[0m\u001B[0m\n\u001B[0m\u001B[0;32m      2\u001B[0m \u001B[1;33m\u001B[0m\u001B[0m\n\u001B[0;32m      3\u001B[0m \u001B[1;33m\u001B[0m\u001B[0m\n",
      "\u001B[1;31mRuntimeError\u001B[0m: [Open3D ERROR] GLFW Error: WGL: Failed to make context current: The handle is invalid. "
     ]
    }
   ],
   "source": [
    "o3d.visualization.draw_geometries([pcd_poster])\n"
   ],
   "metadata": {
    "collapsed": false,
    "pycharm": {
     "name": "#%%\n"
    }
   }
  },
  {
   "cell_type": "code",
   "execution_count": 44,
   "outputs": [],
   "source": [
    "downpcd = pcd_poster.voxel_down_sample(voxel_size=15)"
   ],
   "metadata": {
    "collapsed": false,
    "pycharm": {
     "name": "#%%\n"
    }
   }
  },
  {
   "cell_type": "code",
   "execution_count": 45,
   "outputs": [
    {
     "ename": "RuntimeError",
     "evalue": "[Open3D ERROR] GLFW Error: WGL: Failed to make context current: The handle is invalid. ",
     "output_type": "error",
     "traceback": [
      "\u001B[1;31m---------------------------------------------------------------------------\u001B[0m",
      "\u001B[1;31mRuntimeError\u001B[0m                              Traceback (most recent call last)",
      "\u001B[1;32m<ipython-input-45-d858d73362b2>\u001B[0m in \u001B[0;36m<module>\u001B[1;34m\u001B[0m\n\u001B[1;32m----> 1\u001B[1;33m \u001B[0mo3d\u001B[0m\u001B[1;33m.\u001B[0m\u001B[0mvisualization\u001B[0m\u001B[1;33m.\u001B[0m\u001B[0mdraw_geometries\u001B[0m\u001B[1;33m(\u001B[0m\u001B[1;33m[\u001B[0m\u001B[0mdownpcd\u001B[0m\u001B[1;33m]\u001B[0m\u001B[1;33m)\u001B[0m\u001B[1;33m\u001B[0m\u001B[1;33m\u001B[0m\u001B[0m\n\u001B[0m\u001B[0;32m      2\u001B[0m \u001B[1;33m\u001B[0m\u001B[0m\n",
      "\u001B[1;31mRuntimeError\u001B[0m: [Open3D ERROR] GLFW Error: WGL: Failed to make context current: The handle is invalid. "
     ]
    }
   ],
   "source": [
    "o3d.visualization.draw_geometries([downpcd])\n"
   ],
   "metadata": {
    "collapsed": false,
    "pycharm": {
     "name": "#%%\n"
    }
   }
  },
  {
   "cell_type": "code",
   "execution_count": 25,
   "outputs": [
    {
     "ename": "RuntimeError",
     "evalue": "[Open3D ERROR] GLFW Error: WGL: Failed to make context current: The requested transformation operation is not supported. ",
     "output_type": "error",
     "traceback": [
      "\u001B[1;31m---------------------------------------------------------------------------\u001B[0m",
      "\u001B[1;31mRuntimeError\u001B[0m                              Traceback (most recent call last)",
      "\u001B[1;32m<ipython-input-25-a6a8b5bcb4e3>\u001B[0m in \u001B[0;36m<module>\u001B[1;34m\u001B[0m\n\u001B[0;32m      1\u001B[0m \u001B[0mdownpcd\u001B[0m\u001B[1;33m.\u001B[0m\u001B[0mestimate_normals\u001B[0m\u001B[1;33m(\u001B[0m\u001B[0msearch_param\u001B[0m\u001B[1;33m=\u001B[0m\u001B[0mo3d\u001B[0m\u001B[1;33m.\u001B[0m\u001B[0mgeometry\u001B[0m\u001B[1;33m.\u001B[0m\u001B[0mKDTreeSearchParamHybrid\u001B[0m\u001B[1;33m(\u001B[0m\u001B[0mradius\u001B[0m\u001B[1;33m=\u001B[0m\u001B[1;36m30\u001B[0m\u001B[1;33m,\u001B[0m \u001B[0mmax_nn\u001B[0m\u001B[1;33m=\u001B[0m\u001B[1;36m30\u001B[0m\u001B[1;33m)\u001B[0m\u001B[1;33m)\u001B[0m\u001B[1;33m\u001B[0m\u001B[1;33m\u001B[0m\u001B[0m\n\u001B[1;32m----> 2\u001B[1;33m \u001B[0mo3d\u001B[0m\u001B[1;33m.\u001B[0m\u001B[0mvisualization\u001B[0m\u001B[1;33m.\u001B[0m\u001B[0mdraw_geometries\u001B[0m\u001B[1;33m(\u001B[0m\u001B[1;33m[\u001B[0m\u001B[0mdownpcd\u001B[0m\u001B[1;33m]\u001B[0m\u001B[1;33m,\u001B[0m \u001B[0mpoint_show_normal\u001B[0m\u001B[1;33m=\u001B[0m\u001B[1;32mTrue\u001B[0m\u001B[1;33m)\u001B[0m\u001B[1;33m\u001B[0m\u001B[1;33m\u001B[0m\u001B[0m\n\u001B[0m\u001B[0;32m      3\u001B[0m \u001B[1;33m\u001B[0m\u001B[0m\n\u001B[0;32m      4\u001B[0m \u001B[1;33m\u001B[0m\u001B[0m\n",
      "\u001B[1;31mRuntimeError\u001B[0m: [Open3D ERROR] GLFW Error: WGL: Failed to make context current: The requested transformation operation is not supported. "
     ]
    }
   ],
   "source": [
    "downpcd.estimate_normals(search_param=o3d.geometry.KDTreeSearchParamHybrid(radius=30, max_nn=30))"
   ],
   "metadata": {
    "collapsed": false,
    "pycharm": {
     "name": "#%%\n"
    }
   }
  },
  {
   "cell_type": "code",
   "execution_count": null,
   "outputs": [],
   "source": [
    "o3d.visualization.draw_geometries([downpcd], point_show_normal=True)\n",
    "\n"
   ],
   "metadata": {
    "collapsed": false,
    "pycharm": {
     "name": "#%%\n"
    }
   }
  }
 ],
 "metadata": {
  "kernelspec": {
   "display_name": "Python 3",
   "language": "python",
   "name": "python3"
  },
  "language_info": {
   "codemirror_mode": {
    "name": "ipython",
    "version": 2
   },
   "file_extension": ".py",
   "mimetype": "text/x-python",
   "name": "python",
   "nbconvert_exporter": "python",
   "pygments_lexer": "ipython2",
   "version": "2.7.6"
  }
 },
 "nbformat": 4,
 "nbformat_minor": 0
}